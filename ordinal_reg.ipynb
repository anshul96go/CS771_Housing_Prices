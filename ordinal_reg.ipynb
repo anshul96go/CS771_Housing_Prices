{
 "cells": [
  {
   "cell_type": "code",
   "execution_count": 180,
   "metadata": {},
   "outputs": [],
   "source": [
    "import numpy as np\n",
    "import matplotlib.pyplot as plt\n",
    "from sklearn.model_selection import train_test_split\n",
    "import csv\n",
    "import mord"
   ]
  },
  {
   "cell_type": "code",
   "execution_count": 181,
   "metadata": {},
   "outputs": [],
   "source": [
    "X = []\n",
    "Y = []\n",
    "with open('selected_features_x.csv') as csvfile:\n",
    "    csv_reader = csv.reader(csvfile, delimiter=',')\n",
    "    line = 0\n",
    "    for row in csv_reader:\n",
    "        if line != 0:\n",
    "            X.append(row)\n",
    "        line = line + 1\n",
    "with open('selected_features_y.csv') as csvfile:\n",
    "    csv_reader = csv.reader(csvfile, delimiter=',')\n",
    "    line = 0\n",
    "    for row in csv_reader:\n",
    "        if line != 0:\n",
    "            Y.append(row[0])\n",
    "        line = line + 1\n",
    "X = np.array(X, dtype=int)\n",
    "Y = np.array(Y, dtype=int)"
   ]
  },
  {
   "cell_type": "code",
   "execution_count": 182,
   "metadata": {},
   "outputs": [],
   "source": [
    "Xtrain, Xtest, Ytrain, Ytest = train_test_split(X, Y, test_size=0.25, random_state= 12)\n",
    "\n",
    "step = 10000\n",
    "Yotrain = np.copy(Ytrain)\n",
    "Yotest = np.copy(Ytest)\n",
    "for i in range(Ytrain.size):\n",
    "    Yotrain[i] = Yotrain[i] // step\n",
    "for i in range(Ytest.size):\n",
    "    Yotest[i] = Yotest[i] // step"
   ]
  },
  {
   "cell_type": "code",
   "execution_count": 191,
   "metadata": {},
   "outputs": [
    {
     "name": "stdout",
     "output_type": "stream",
     "text": [
      "1.9146005509641872\n"
     ]
    }
   ],
   "source": [
    "model = mord.OrdinalRidge()\n",
    "model.fit(Xtrain, Yotrain)\n",
    "\n",
    "Ypred = model.predict(X=Xtest).astype(dtype=int)\n",
    "Ydiff = Yotest - Ypred\n",
    "avg_error = np.sum(np.absolute(Ydiff))/Ydiff.size\n",
    "print(avg_error)"
   ]
  },
  {
   "cell_type": "code",
   "execution_count": null,
   "metadata": {},
   "outputs": [],
   "source": []
  }
 ],
 "metadata": {
  "kernelspec": {
   "display_name": "Python 3",
   "language": "python",
   "name": "python3"
  },
  "language_info": {
   "codemirror_mode": {
    "name": "ipython",
    "version": 3
   },
   "file_extension": ".py",
   "mimetype": "text/x-python",
   "name": "python",
   "nbconvert_exporter": "python",
   "pygments_lexer": "ipython3",
   "version": "3.7.0"
  }
 },
 "nbformat": 4,
 "nbformat_minor": 2
}
