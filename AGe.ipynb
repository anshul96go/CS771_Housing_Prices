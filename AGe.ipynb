{
 "cells": [
  {
   "cell_type": "markdown",
   "metadata": {},
   "source": [
    "# Basic data read & split"
   ]
  },
  {
   "cell_type": "code",
   "execution_count": 1,
   "metadata": {},
   "outputs": [],
   "source": [
    "import csv\n",
    "import numpy as np\n",
    "import matplotlib.pyplot as plt\n",
    "from math import sqrt\n",
    "from sklearn.metrics import mean_squared_error\n",
    "from sklearn.model_selection import train_test_split\n",
    "from sklearn.metrics import r2_score"
   ]
  },
  {
   "cell_type": "code",
   "execution_count": 2,
   "metadata": {},
   "outputs": [],
   "source": [
    "X = []\n",
    "Y = []\n",
    "with open('selected_features_x.csv') as csvfile:\n",
    "    csv_reader = csv.reader(csvfile, delimiter=',')\n",
    "    line = 0\n",
    "    for row in csv_reader:\n",
    "        if line != 0:\n",
    "            X.append(row)\n",
    "        line = line + 1\n",
    "with open('selected_features_y.csv') as csvfile:\n",
    "    csv_reader = csv.reader(csvfile, delimiter=',')\n",
    "    line = 0\n",
    "    for row in csv_reader:\n",
    "        if line != 0:\n",
    "            Y.append(row[0])\n",
    "        line = line + 1\n",
    "X = np.array(X, dtype=int)\n",
    "Y = np.array(Y, dtype=int)\n",
    "\n",
    "# 80 % training. 10 % validation. 10 % testing\n",
    "x_train, x_test, y_train, y_test = train_test_split(X, Y, test_size=0.1)\n",
    "x_train, x_val, y_train, y_val = train_test_split(X, Y, test_size=0.1)\n",
    "\n",
    "x_ensemble_train = []\n",
    "x_ensemble_test = []\n",
    "x_ensemble_val = []"
   ]
  },
  {
   "cell_type": "markdown",
   "metadata": {},
   "source": [
    "Function to calculate RMSE"
   ]
  },
  {
   "cell_type": "code",
   "execution_count": 3,
   "metadata": {},
   "outputs": [],
   "source": [
    "def rmse(y_actual, y_pred):\n",
    "    return sqrt(mean_squared_error(y_actual, y_pred))"
   ]
  },
  {
   "cell_type": "markdown",
   "metadata": {},
   "source": [
    "# Ordinal Regression"
   ]
  },
  {
   "cell_type": "code",
   "execution_count": 4,
   "metadata": {},
   "outputs": [],
   "source": [
    "import mord"
   ]
  },
  {
   "cell_type": "code",
   "execution_count": 5,
   "metadata": {},
   "outputs": [],
   "source": [
    "step = 10000\n",
    "yo_train = np.copy(y_train)\n",
    "yo_test = np.copy(y_test)\n",
    "yo_val = np.copy(y_val)\n",
    "for i in range(yo_train.size):\n",
    "    yo_train[i] = yo_train[i] // step\n",
    "for i in range(yo_test.size):\n",
    "    yo_test[i] = yo_test[i] // step\n",
    "for i in range(yo_val.size):\n",
    "    yo_val[i] = yo_val[i] // step"
   ]
  },
  {
   "cell_type": "markdown",
   "metadata": {},
   "source": [
    "Train and validation"
   ]
  },
  {
   "cell_type": "code",
   "execution_count": 6,
   "metadata": {},
   "outputs": [
    {
     "name": "stdout",
     "output_type": "stream",
     "text": [
      "R2 loss on test data is 0.8724538113386091\n"
     ]
    }
   ],
   "source": [
    "alpha = 110.0\n",
    "ord_reg = mord.OrdinalRidge(alpha)\n",
    "ord_reg.fit(x_train, yo_train)\n",
    "\n",
    "# RMSE = rmse(yo_val, ord_reg.predict(x_val))\n",
    "# print('RMSE on validation data', RMSE * step)\n",
    "\n",
    "print('R2 loss on test data is', r2_score(yo_val, ord_reg.predict(x_val)))"
   ]
  },
  {
   "cell_type": "code",
   "execution_count": 7,
   "metadata": {},
   "outputs": [
    {
     "name": "stdout",
     "output_type": "stream",
     "text": [
      "R2 loss on test data is 0.9066593259974464\n"
     ]
    }
   ],
   "source": [
    "yo_pred = ord_reg.predict(x_test)\n",
    "print('R2 loss on test data is', r2_score(yo_test, yo_pred))\n",
    "# RMSE = rmse(yo_test, yo_pred)\n",
    "# print('RMSE on testing data', RMSE * step)"
   ]
  },
  {
   "cell_type": "markdown",
   "metadata": {},
   "source": [
    "# PCA followed by Ridge Regression"
   ]
  },
  {
   "cell_type": "code",
   "execution_count": 8,
   "metadata": {},
   "outputs": [],
   "source": [
    "from sklearn.decomposition import PCA\n",
    "from sklearn.linear_model import Ridge"
   ]
  },
  {
   "cell_type": "markdown",
   "metadata": {},
   "source": [
    "PCA with n_comp components"
   ]
  },
  {
   "cell_type": "code",
   "execution_count": 9,
   "metadata": {},
   "outputs": [],
   "source": [
    "n_comp = 31\n",
    "pca = PCA(n_comp)\n",
    "proj = pca.fit(x_train)\n",
    "\n",
    "xhat_val = pca.transform(x_val)\n",
    "xhat_train = pca.transform(x_train)"
   ]
  },
  {
   "cell_type": "markdown",
   "metadata": {},
   "source": [
    "Ridge Regression on transformed data"
   ]
  },
  {
   "cell_type": "code",
   "execution_count": 10,
   "metadata": {},
   "outputs": [
    {
     "name": "stdout",
     "output_type": "stream",
     "text": [
      "R2 loss on validation data 0.8700033373967015\n"
     ]
    }
   ],
   "source": [
    "alpha = 20\n",
    "RR = Ridge(alpha)\n",
    "RR.fit(xhat_train, y_train)\n",
    "\n",
    "# RMSE = rmse(y_val, RR.predict(xhat_val))\n",
    "# print('RMSE on validation data', RMSE)\n",
    "print('R2 loss on validation data', r2_score(y_val, RR.predict(xhat_val)))"
   ]
  },
  {
   "cell_type": "code",
   "execution_count": 11,
   "metadata": {},
   "outputs": [
    {
     "name": "stdout",
     "output_type": "stream",
     "text": [
      "R2 loss on test data 0.8981699322932527\n"
     ]
    }
   ],
   "source": [
    "xhat_test = pca.transform(x_test)\n",
    "y_pred = RR.predict(xhat_test)\n",
    "print('R2 loss on test data', r2_score(y_test, y_pred))\n",
    "# print('RMSE on testing data', rmse(y_test, y_pred))"
   ]
  },
  {
   "cell_type": "markdown",
   "metadata": {},
   "source": [
    "# Adaboost"
   ]
  },
  {
   "cell_type": "code",
   "execution_count": 12,
   "metadata": {},
   "outputs": [
    {
     "name": "stderr",
     "output_type": "stream",
     "text": [
      "/home/blmhemu/anaconda3/lib/python3.7/site-packages/sklearn/ensemble/weight_boosting.py:29: DeprecationWarning: numpy.core.umath_tests is an internal NumPy module and should not be imported. It will be removed in a future NumPy release.\n",
      "  from numpy.core.umath_tests import inner1d\n"
     ]
    }
   ],
   "source": [
    "from sklearn.ensemble import AdaBoostRegressor\n",
    "from sklearn.tree import DecisionTreeRegressor"
   ]
  },
  {
   "cell_type": "markdown",
   "metadata": {},
   "source": [
    "Train and validation "
   ]
  },
  {
   "cell_type": "code",
   "execution_count": 13,
   "metadata": {},
   "outputs": [
    {
     "name": "stdout",
     "output_type": "stream",
     "text": [
      "R2 loss on validation data 0.891599445964292\n"
     ]
    }
   ],
   "source": [
    "n_est = 100\n",
    "dt_max_dep = 12\n",
    "adareg = AdaBoostRegressor(base_estimator=DecisionTreeRegressor(max_depth=dt_max_dep), n_estimators=n_est)\n",
    "adareg.fit(x_train, y_train)\n",
    "\n",
    "# RMSE = rmse(y_val, adareg.predict(x_val))\n",
    "# print('RMSE on validation data', RMSE)\n",
    "x_ensemble_train.append(adareg.predict(x_train))\n",
    "x_ensemble_val.append(adareg.predict(x_val))\n",
    "print('R2 loss on validation data', r2_score(y_val, adareg.predict(x_val)))"
   ]
  },
  {
   "cell_type": "code",
   "execution_count": 14,
   "metadata": {},
   "outputs": [
    {
     "name": "stdout",
     "output_type": "stream",
     "text": [
      "R2 loss on test data 0.9978005695690043\n"
     ]
    }
   ],
   "source": [
    "y_pred = adareg.predict(x_test)\n",
    "x_ensemble_test.append(y_pred)\n",
    "print('R2 loss on test data', r2_score(y_test, y_pred))\n",
    "# print('RMSE on testing data', rmse(y_test, y_pred))"
   ]
  },
  {
   "cell_type": "markdown",
   "metadata": {},
   "source": [
    "# Random Forest Regressor"
   ]
  },
  {
   "cell_type": "code",
   "execution_count": 15,
   "metadata": {},
   "outputs": [],
   "source": [
    "from sklearn.ensemble import RandomForestRegressor"
   ]
  },
  {
   "cell_type": "code",
   "execution_count": 16,
   "metadata": {},
   "outputs": [
    {
     "name": "stdout",
     "output_type": "stream",
     "text": [
      "R2 loss on validation data 0.8995334163110568\n"
     ]
    }
   ],
   "source": [
    "n_est = 100\n",
    "rf_reg = RandomForestRegressor(n_estimators=n_est, criterion='mse')\n",
    "rf_reg.fit(x_train, y_train)\n",
    "\n",
    "# RMSE = rmse(y_val, rfreg.predict(x_val))\n",
    "# print('RMSE on validation data', RMSE)\n",
    "x_ensemble_train.append(rf_reg.predict(x_train))\n",
    "x_ensemble_val.append(rf_reg.predict(x_val))\n",
    "print('R2 loss on validation data', r2_score(y_val, rf_reg.predict(x_val)))"
   ]
  },
  {
   "cell_type": "code",
   "execution_count": 17,
   "metadata": {},
   "outputs": [
    {
     "name": "stdout",
     "output_type": "stream",
     "text": [
      "R2 loss on test data 0.985271923453513\n"
     ]
    }
   ],
   "source": [
    "y_pred = rf_reg.predict(x_test)\n",
    "x_ensemble_test.append(y_pred)\n",
    "print('R2 loss on test data', r2_score(y_test, y_pred))\n",
    "# print('RMSE on testing data', rmse(y_test, y_pred))"
   ]
  },
  {
   "cell_type": "markdown",
   "metadata": {},
   "source": [
    "# Extra Trees Regression"
   ]
  },
  {
   "cell_type": "code",
   "execution_count": 18,
   "metadata": {},
   "outputs": [],
   "source": [
    "from sklearn.ensemble import ExtraTreesRegressor"
   ]
  },
  {
   "cell_type": "code",
   "execution_count": 19,
   "metadata": {},
   "outputs": [
    {
     "name": "stdout",
     "output_type": "stream",
     "text": [
      "R2 loss on validation data 0.8804973291864597\n"
     ]
    }
   ],
   "source": [
    "n_est = 120\n",
    "ext_reg = ExtraTreesRegressor(n_estimators=n_est, criterion='mse')\n",
    "ext_reg.fit(x_train, y_train)\n",
    "\n",
    "# RMSE = rmse(y_val, extreg.predict(x_val))\n",
    "# print('RMSE on validation data', RMSE)\n",
    "x_ensemble_train.append(ext_reg.predict(x_train))\n",
    "x_ensemble_val.append(ext_reg.predict(x_val))\n",
    "print('R2 loss on validation data', r2_score(y_val, ext_reg.predict(x_val)))"
   ]
  },
  {
   "cell_type": "code",
   "execution_count": 20,
   "metadata": {},
   "outputs": [
    {
     "name": "stdout",
     "output_type": "stream",
     "text": [
      "R2 loss on test data 0.9950417034402779\n"
     ]
    }
   ],
   "source": [
    "y_pred = ext_reg.predict(x_test)\n",
    "x_ensemble_test.append(y_pred)\n",
    "print('R2 loss on test data', r2_score(y_test, y_pred))\n",
    "# print('RMSE on testing data', rmse(y_test, y_pred))"
   ]
  },
  {
   "cell_type": "markdown",
   "metadata": {},
   "source": [
    "# Gradient Boosting Regressor"
   ]
  },
  {
   "cell_type": "code",
   "execution_count": 21,
   "metadata": {},
   "outputs": [],
   "source": [
    "from sklearn.ensemble import GradientBoostingRegressor"
   ]
  },
  {
   "cell_type": "code",
   "execution_count": 22,
   "metadata": {},
   "outputs": [
    {
     "name": "stdout",
     "output_type": "stream",
     "text": [
      "R2 Loss on validation data 0.8903744433401195\n"
     ]
    }
   ],
   "source": [
    "n_est = 600\n",
    "max_dep = 5\n",
    "gb_reg = GradientBoostingRegressor(n_estimators=n_est, max_depth=max_dep)\n",
    "gb_reg.fit(x_train, y_train)\n",
    "\n",
    "# RMSE = rmse(y_val, gbreg.predict(x_val))\n",
    "# print('RMSE on validation data', RMSE)\n",
    "x_ensemble_train.append(gb_reg.predict(x_train))\n",
    "x_ensemble_val.append(gb_reg.predict(x_val))\n",
    "print('R2 Loss on validation data', r2_score(y_val, gb_reg.predict(x_val)))"
   ]
  },
  {
   "cell_type": "code",
   "execution_count": 23,
   "metadata": {},
   "outputs": [
    {
     "name": "stdout",
     "output_type": "stream",
     "text": [
      "R2 loss on test data 0.9959337493845545\n"
     ]
    }
   ],
   "source": [
    "y_pred = gb_reg.predict(x_test)\n",
    "x_ensemble_test.append(y_pred)\n",
    "print('R2 loss on test data', r2_score(y_test, y_pred))\n",
    "# print('RMSE on testing data', rmse(y_test, y_pred))"
   ]
  },
  {
   "cell_type": "markdown",
   "metadata": {},
   "source": [
    "# Bagging Regressor"
   ]
  },
  {
   "cell_type": "code",
   "execution_count": 24,
   "metadata": {},
   "outputs": [],
   "source": [
    "from sklearn.ensemble import BaggingRegressor"
   ]
  },
  {
   "cell_type": "markdown",
   "metadata": {},
   "source": [
    "Train and validation "
   ]
  },
  {
   "cell_type": "code",
   "execution_count": 25,
   "metadata": {},
   "outputs": [
    {
     "name": "stdout",
     "output_type": "stream",
     "text": [
      "R2 Loss on validation data 0.8896291558931003\n"
     ]
    }
   ],
   "source": [
    "n_est = 20\n",
    "bag_reg = BaggingRegressor(base_estimator=DecisionTreeRegressor(max_depth=15),n_estimators=n_est)\n",
    "bag_reg.fit(x_train, y_train)\n",
    "\n",
    "# RMSE = rmse(y_val, bagreg.predict(x_val))\n",
    "# print('RMSE on validation data', RMSE)\n",
    "x_ensemble_train.append(bag_reg.predict(x_train))\n",
    "x_ensemble_val.append(bag_reg.predict(x_val))\n",
    "print('R2 Loss on validation data', r2_score(y_val, bag_reg.predict(x_val)))"
   ]
  },
  {
   "cell_type": "code",
   "execution_count": 26,
   "metadata": {},
   "outputs": [
    {
     "name": "stdout",
     "output_type": "stream",
     "text": [
      "R2 loss on test data 0.9819826654876976\n"
     ]
    }
   ],
   "source": [
    "y_pred = bag_reg.predict(x_test)\n",
    "x_ensemble_test.append(y_pred)\n",
    "print('R2 loss on test data', r2_score(y_test, y_pred))\n",
    "# print('RMSE on testing data', rmse(y_test, y_pred))"
   ]
  },
  {
   "cell_type": "markdown",
   "metadata": {},
   "source": [
    "# Ensembling all the above models using Ridge Regression"
   ]
  },
  {
   "cell_type": "code",
   "execution_count": 27,
   "metadata": {},
   "outputs": [],
   "source": [
    "x_ensemble_train = np.transpose(np.array(x_ensemble_train))\n",
    "x_ensemble_test = np.transpose(np.array(x_ensemble_test))\n",
    "x_ensemble_val = np.transpose(np.array(x_ensemble_val))"
   ]
  },
  {
   "cell_type": "code",
   "execution_count": 28,
   "metadata": {},
   "outputs": [
    {
     "name": "stdout",
     "output_type": "stream",
     "text": [
      "(1305, 5)\n"
     ]
    }
   ],
   "source": [
    "print(x_ensemble_train.shape)"
   ]
  },
  {
   "cell_type": "code",
   "execution_count": 29,
   "metadata": {},
   "outputs": [],
   "source": [
    "from sklearn.linear_model import Ridge"
   ]
  },
  {
   "cell_type": "code",
   "execution_count": 30,
   "metadata": {},
   "outputs": [
    {
     "name": "stdout",
     "output_type": "stream",
     "text": [
      "R2 Loss on validation data 0.8804973356332058\n"
     ]
    }
   ],
   "source": [
    "a = 50\n",
    "RR_ens = Ridge(alpha=a)\n",
    "RR_ens.fit(x_ensemble_train, y_train)\n",
    "print('R2 Loss on validation data', r2_score(y_val, RR_ens.predict(x_ensemble_val)))"
   ]
  },
  {
   "cell_type": "code",
   "execution_count": 31,
   "metadata": {},
   "outputs": [
    {
     "name": "stdout",
     "output_type": "stream",
     "text": [
      "R2 loss on test data 0.9950417043786949\n"
     ]
    }
   ],
   "source": [
    "y_pred = RR_ens.predict(x_ensemble_test)\n",
    "print('R2 loss on test data', r2_score(y_test, y_pred))"
   ]
  }
 ],
 "metadata": {
  "kernelspec": {
   "display_name": "Python 3",
   "language": "python",
   "name": "python3"
  },
  "language_info": {
   "codemirror_mode": {
    "name": "ipython",
    "version": 3
   },
   "file_extension": ".py",
   "mimetype": "text/x-python",
   "name": "python",
   "nbconvert_exporter": "python",
   "pygments_lexer": "ipython3",
   "version": "3.7.0"
  }
 },
 "nbformat": 4,
 "nbformat_minor": 2
}
