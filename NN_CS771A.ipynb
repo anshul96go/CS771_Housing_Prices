{
 "cells": [
  {
   "cell_type": "code",
   "execution_count": 4,
   "metadata": {},
   "outputs": [],
   "source": [
    "import numpy as np\n",
    "import pandas as pd\n",
    "from matplotlib import pyplot\n",
    "#import tensorflow as tf\n",
    "import keras\n",
    "from keras import metrics\n",
    "from keras.models import Sequential\n",
    "from keras.layers import Dense\n",
    "from keras import losses\n",
    "from keras.wrappers.scikit_learn import KerasRegressor\n",
    "from sklearn.model_selection import cross_val_score\n",
    "from sklearn.model_selection import KFold\n",
    "from sklearn.preprocessing import StandardScaler\n",
    "from sklearn.pipeline import Pipeline\n",
    "from sklearn.model_selection import train_test_split"
   ]
  },
  {
   "cell_type": "code",
   "execution_count": 5,
   "metadata": {},
   "outputs": [
    {
     "name": "stdout",
     "output_type": "stream",
     "text": [
      "[208500     65   8450      7    196    706    150    856    856    854\n",
      "   1710      1      2      1      8      0      2    548      0     61\n",
      "      0      1      1      0      1      0      0      0      0      1\n",
      "      1      0      1      1      1      0      0      1      0      0\n",
      "      1      0      0      0      1      0      1      0      1      1\n",
      "      0      0      1      1      0      0      0      0      1      1\n",
      "      0      0      0      0      0      1      1      1      0      1\n",
      "      0      0]\n"
     ]
    }
   ],
   "source": [
    "# load dataset\n",
    "loc = r'/home/anshul/Downloads/final_data_CS771.csv'\n",
    "dataframe = pd.read_csv(loc)\n",
    "dataset = dataframe.values\n",
    "print(dataset[0,:])\n",
    "\n",
    "# split into input (X) and output (Y) variables\n",
    "X = dataset[:,1:72]\n",
    "Y = dataset[:,0]"
   ]
  },
  {
   "cell_type": "code",
   "execution_count": 6,
   "metadata": {},
   "outputs": [
    {
     "name": "stdout",
     "output_type": "stream",
     "text": [
      "(291,)\n"
     ]
    }
   ],
   "source": [
    "#Splitting the data\n",
    "Xtrain, Xtest, Ytrain, Ytest = train_test_split(X, Y, test_size=0.20, random_state= 12)\n",
    "print(Ytest.shape)"
   ]
  },
  {
   "cell_type": "code",
   "execution_count": 33,
   "metadata": {},
   "outputs": [],
   "source": [
    "# define base model\n",
    "def baseline_model():\n",
    "\t# create model\n",
    "\tmodel = Sequential()\n",
    "\tmodel.add(Dense(71, input_dim=71, kernel_initializer='normal', activation='relu'))\n",
    "\tmodel.add(Dense(1, kernel_initializer='normal'))\n",
    "\t# Compile model\n",
    "\tmodel.compile(loss='mean_squared_error', optimizer='adam', metrics = ['mse', 'mae', 'mape', 'cosine'])\n",
    "\treturn model"
   ]
  },
  {
   "cell_type": "code",
   "execution_count": 42,
   "metadata": {},
   "outputs": [],
   "source": [
    "# fix random seed for reproducibility\n",
    "seed = 7\n",
    "np.random.seed(seed)\n",
    "\n",
    "# evaluate model with standardized dataset\n",
    "estimator = KerasRegressor(build_fn=baseline_model, epochs=100, batch_size=1, verbose=0)\n",
    "\n",
    "#standardised\n",
    "std_est = []\n",
    "std_est.append(('standardize', StandardScaler()))\n",
    "std_est.append(('mlp', KerasRegressor(build_fn=baseline_model, epochs=50, batch_size=5, verbose=0)))\n",
    "pipeline = Pipeline(std_est)"
   ]
  },
  {
   "cell_type": "code",
   "execution_count": 43,
   "metadata": {},
   "outputs": [
    {
     "name": "stderr",
     "output_type": "stream",
     "text": [
      "/home/anshul/anaconda3/lib/python3.6/site-packages/sklearn/utils/validation.py:475: DataConversionWarning: Data with input dtype int64 was converted to float64 by StandardScaler.\n",
      "  warnings.warn(msg, DataConversionWarning)\n"
     ]
    }
   ],
   "source": [
    "#kfold = KFold(n_splits=10, random_state=seed)\n",
    "#results = cross_val_score(estimator, X, Y, cv=kfold)\n",
    "#print(\"Results: %.2f (%.2f) MSE\" % (results.mean(), results.std()))\n",
    "\n",
    "#fitting the model\n",
    "history = estimator.fit(Xtrain, Ytrain)\n",
    "std_his = pipeline.fit(Xtrain, Ytrain)\n",
    "\n",
    "# evaluate the model\n",
    "#scores = estimator.scoree(Xtrain, Ytrain)\n",
    "#print(\"\\n%s: %.2f%%\" % (baseline_model.metrics_names[1], scores[1]*100))\n",
    "\n",
    "#making predictions\n",
    "predictions = estimator.predict(Xtest)"
   ]
  },
  {
   "cell_type": "code",
   "execution_count": 44,
   "metadata": {},
   "outputs": [
    {
     "name": "stdout",
     "output_type": "stream",
     "text": [
      "45217.73368344836\n",
      "[186197 163843 118000 394576 113356 304407 192850 245235  69430 238879\n",
      " 210909 115845 203593 140514 163125 264440 217977 149019 165448 155509\n",
      " 153943 174860 144527  83049 261849 169439 144022 164831 146561 148175\n",
      " 171394 257256 215452  97002 206278 171286 320054 151651 153004  61931\n",
      " 174934 133415 338712 132964 149647 140004 115407 194271  90486 136459\n",
      " 246286 142016 136155 298710 279378 165985 116914 154263 143268 221650\n",
      " 243058 242709 230166 207845 229480 288593 113677 242740 186588 134608\n",
      " 218718 217471 187492 137723 228510 324803 133296 146273 259506 159233\n",
      " 157258 185288 204709 256325 240304 149533 219335 150491 240691 123563\n",
      " 130514 135543  59603 216172 180274 201244 210899 135465 206417 189114\n",
      " 126703 126148 200509 214755 120335 181935 101064 318240 233066  95093\n",
      " 272977 255599 166328  65838 182955 236058 134961 234196 219417 226873\n",
      " 204444 277570 214512 350713 231027 196965 210712 121251 183657 148332\n",
      " 322136 186105 146962 119092 209563  53249 342065 143084 171387 106474\n",
      " 161260 187964 174217 220954 221183 210975 285530 262505 172201 166262\n",
      " 195648  97075 259151 257116 289856 152956 122327 214372 141186 225814\n",
      " 243936 131638 103764 274503 181179 229469 255977 219822 200155 238504\n",
      " 585408 188308  66912 273303 115894 240334 236801 288198 116640 109956\n",
      " 142241 349615 234316 152423 216816 328609 312064  89691 209040 171267\n",
      " 229098 202706 152062 125743 159115 222978 186844 161463 134896 252328\n",
      " 352091  73841 145628 239400 168366 115086 183641 188751 302085 164267\n",
      " 175656 270209 145916 254686 229139 297715 141727 190324 127914 114983\n",
      " 166657 245923 213329 114007 199361 218350 201165 317357 259197 166602\n",
      " 180228 199082 108772 157438 329381 182900 327940 218334 153143  77435\n",
      " 159394 216084 164412 144861 209741 136501 133748 198101 174358 140579\n",
      " 173489 256659 169050 305434 135498 190996 153166 144485 109073 116873\n",
      " 194006 114308 132956 181846  71364 323754  98790 229033 189878 161686\n",
      " 218901 263481 142006 148422 234568 136504 142377 138241 130951  96409\n",
      " 163616  52987 212238 107996 206021 101820 202094  78572 230589 157910\n",
      " 141149]\n",
      "[183500 138500 132000 485000 109008 290000 118500 171000 106500 280000\n",
      " 239000  88000 178000 125000 171000 267000 187000 134000 159895 128000\n",
      " 153500 270000 144000  61000 310000 188500 147400 158000 170000 115000\n",
      " 145250 241500 176000  79500 212000 177000 284000 163900 131000  82000\n",
      " 184000 125000 446261 135000 155000 159500 127000 192000  83000 115000\n",
      " 222500 105000 125500 394617 242000 154000  85000 146800 127500 210000\n",
      " 268000 235000 225000 192500 195000 168000 123000 279500 250580 158500\n",
      " 269500 197500 190000 118000 233000 302000 147000 131500 306000  97500\n",
      " 146000 158900 167900 275000 256000 160000 239000 149900 222000 108480\n",
      "  68400 129500  75500 185000 157000 215000 311500  91500 392000 172500\n",
      " 144000 133000 194700 201000 123000 172500  87500 260000 235000  58500\n",
      " 301000 223000 144000  85500 172400 226000 119000 172000 153500 222000\n",
      " 140000 262280 289000 350000 235128 178000 190000 130000 154000 138000\n",
      " 290000 181000 180000  67000 179900  60000 403000 144000 140000  98000\n",
      " 157000 180000 158000 145000 208900 213500 320000 315500 179665 178000\n",
      " 157000 119000 244000 205000 240000 139500 137000 167900 145000 239000\n",
      " 248328 110000 109500 337500 208300 215000 295493 201000 179200 324000\n",
      " 184750 140000  68500 314813 143000 235000 236500 180000 124900 127000\n",
      " 144000 555000 269790 128500 124000 426000 299800 113000 165000 148000\n",
      " 278000 220000 135000 134000 177000 200000 153337 107000 131000 211000\n",
      " 341000 107500 144500 135000 158000 133500 181000 191000 335000 164990\n",
      " 153000 230000 132000 137900 259000 325000 154000 202500 107000 109900\n",
      " 136500 236500 150900 130250 149900 158000 143000 369900 266000 190000\n",
      " 167500 165150  79900 184100 277000 205000 315750 203000 151000  84000\n",
      " 152000 193000 152000 143000 163500 136000 123000 143000 230000 111250\n",
      " 166000 252000 125000 395192 145000 174000 147000 141000 127500 119000\n",
      " 193879 147000 131400 172500  55000 354000 101800 160000 227000 140000\n",
      " 233230 285000 160000 188700 230500 139400 119200 112000 116000 116000\n",
      " 104000  60000 190000 119500 197900 100000 227680  37900 159500 174900\n",
      " 107500]\n"
     ]
    }
   ],
   "source": [
    "print(np.sqrt(-estimator.score(Xtest, Ytest)))\n",
    "print(predictions.astype(dtype=int))\n",
    "print(Ytest)"
   ]
  },
  {
   "cell_type": "code",
   "execution_count": 41,
   "metadata": {},
   "outputs": [
    {
     "name": "stdout",
     "output_type": "stream",
     "text": [
      "RMSE on train data 181.66\n",
      "RMSE on test data 46207.58\n"
     ]
    },
    {
     "data": {
      "image/png": "[encoded data removed]",
      "text/plain": [
       "<Figure size 432x288 with 1 Axes>"
      ]
     },
     "metadata": {},
     "output_type": "display_data"
    }
   ],
   "source": [
    "rmse_train = np.sqrt(np.mean(history.history['mean_absolute_error']))\n",
    "pyplot.plot(np.sqrt(history.history['mean_squared_error']))\n",
    "\n",
    "rmse_predict = np.sqrt(np.mean(np.square(-predictions + Ytest)))\n",
    "#, epochs=100, batch_size=5,  verbose=0\n",
    "print('RMSE on train data %.2f' %rmse_train)\n",
    "print('RMSE on test data %.2f' %rmse_predict)"
   ]
  },
  {
   "cell_type": "code",
   "execution_count": null,
   "metadata": {},
   "outputs": [],
   "source": []
  },
  {
   "cell_type": "code",
   "execution_count": null,
   "metadata": {},
   "outputs": [],
   "source": []
  }
 ],
 "metadata": {
  "kernelspec": {
   "display_name": "Python 3",
   "language": "python",
   "name": "python3"
  },
  "language_info": {
   "codemirror_mode": {
    "name": "ipython",
    "version": 3
   },
   "file_extension": ".py",
   "mimetype": "text/x-python",
   "name": "python",
   "nbconvert_exporter": "python",
   "pygments_lexer": "ipython3",
   "version": "3.6.5"
  }
 },
 "nbformat": 4,
 "nbformat_minor": 2
}
